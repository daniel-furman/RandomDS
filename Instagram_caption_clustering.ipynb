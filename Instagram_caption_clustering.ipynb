{
 "cells": [
  {
   "cell_type": "markdown",
   "id": "f8780af9",
   "metadata": {},
   "source": [
    "# Caption Style Segmentation for Instagram Food Influencers\n",
    "\n",
    "---\n",
    "\n",
    "This notebook explores style variability in Instagram captions created by better-for-you food influencers (from Sep and Aug). I attempt to focus on style rather than topic; therefore, I filtered out any posts that were not about food and any text that uniqely identified to the profile (for example, their name).\n",
    "\n",
    "I used KMeans clustering on BERT embeddings and sparse word presences (nmi = x), revealing signficant style similarity between profiles.  I found that it was easier/more difficult to cluster captions by profile relative to, for example, clustering poems by type (i.e., in [Literary Pattern Recognition](https://www.journals.uchicago.edu/doi/pdf/10.1086/684353)). "
   ]
  },
  {
   "cell_type": "markdown",
   "id": "3bd6f25e",
   "metadata": {},
   "source": [
    "    \n",
    "![dataviz](Insta-caption-style-viz.png)\n"
   ]
  },
  {
   "cell_type": "code",
   "execution_count": 1,
   "id": "d30ae833",
   "metadata": {},
   "outputs": [],
   "source": [
    "import nltk\n",
    "from transformers import BertModel, BertTokenizer\n",
    "\n",
    "from scipy import sparse\n",
    "from sklearn.cluster import KMeans\n",
    "from sklearn import metrics\n",
    "\n",
    "import csv, os, re\n",
    "import math\n",
    "from collections import Counter\n",
    "import random\n",
    "import numpy as np\n",
    "from pathlib import Path\n",
    "from glob import glob\n",
    "import matplotlib.pyplot as plt"
   ]
  },
  {
   "cell_type": "code",
   "execution_count": 2,
   "id": "3f517024",
   "metadata": {},
   "outputs": [],
   "source": [
    "def read_texts(dir_folder):\n",
    "    \n",
    "    paths = glob(dir_folder)\n",
    "    txt_list = []\n",
    "    for path in paths:\n",
    "        txt = Path(path).read_text()\n",
    "        txt = txt.replace('\\n', '')\n",
    "        txt_list.append(txt)\n",
    "\n",
    "    return txt_list"
   ]
  },
  {
   "cell_type": "code",
   "execution_count": 3,
   "id": "cfbe9556",
   "metadata": {},
   "outputs": [],
   "source": [
    "rachel_mansfield=read_texts(\"../data/insta-food-influencers/rachelmansfield/*.txt\")"
   ]
  },
  {
   "cell_type": "code",
   "execution_count": 4,
   "id": "336544fe",
   "metadata": {},
   "outputs": [],
   "source": [
    "minimalist_baker=read_texts(\"../data/insta-food-influencers/minimalistbaker/*.txt\")"
   ]
  },
  {
   "cell_type": "code",
   "execution_count": 5,
   "id": "f2b4d33b",
   "metadata": {},
   "outputs": [],
   "source": [
    "def run_all(influencer1, influencer2, feature_function):\n",
    "    \n",
    "    X, Y, feature_list=feature_function(influencer1, influencer2)\n",
    "    kmeans = KMeans(n_clusters=2, random_state=0).fit(X)\n",
    "    nmi=metrics.normalized_mutual_info_score(Y, kmeans.labels_)\n",
    "    print(\"%.3f NMI\" % nmi)\n"
   ]
  },
  {
   "cell_type": "code",
   "execution_count": 6,
   "id": "f433360a",
   "metadata": {},
   "outputs": [],
   "source": [
    "# This function takes in a list of Instagram captions from two influencers, and returns:\n",
    "\n",
    "# X (sparse matrix, with captions as rows and features as columns)\n",
    "# Y (list of caption labels, with 1=minimalist_baker and 0=rachel_mansfield)\n",
    "\n",
    "def featurize_method_1(influencer1, influencer2):\n",
    "\n",
    "    def featurize(caption, feature_vocab):\n",
    "                \n",
    "        feats={}\n",
    "\n",
    "        tokens=nltk.word_tokenize(caption.lower())\n",
    "        for token in tokens:\n",
    "            if token not in feature_vocab:\n",
    "                feature_vocab[token]=len(feature_vocab)\n",
    "            feats[feature_vocab[token]]=1\n",
    "        return feats\n",
    "\n",
    "    feature_vocab={}\n",
    "    data=[]\n",
    "    Y=[]\n",
    "\n",
    "    for caption in influencer1:\n",
    "        feats=featurize(caption, feature_vocab)\n",
    "        data.append(feats)\n",
    "        Y.append(0)\n",
    "    for caption in influencer2:\n",
    "        feats=featurize(caption, feature_vocab)\n",
    "        data.append(feats)\n",
    "        Y.append(1)\n",
    "    \n",
    "    # shuffle the data\n",
    "    temp = list(zip(data, Y))\n",
    "    random.shuffle(temp)\n",
    "    data, Y = zip(*temp)\n",
    "\n",
    "    # sparse representation\n",
    "    X=sparse.lil_matrix((len(data), len(feature_vocab)))\n",
    "\n",
    "    for idx,feats in enumerate(data):\n",
    "        for f in feats:\n",
    "            X[idx,f]=feats[f]\n",
    "    \n",
    "    return X, Y, feature_vocab"
   ]
  },
  {
   "cell_type": "code",
   "execution_count": 7,
   "id": "2b420ead",
   "metadata": {},
   "outputs": [
    {
     "name": "stdout",
     "output_type": "stream",
     "text": [
      "0.139 NMI\n"
     ]
    }
   ],
   "source": [
    "run_all(rachel_mansfield, minimalist_baker, featurize_method_1)"
   ]
  },
  {
   "cell_type": "code",
   "execution_count": 8,
   "id": "9bb61fe3",
   "metadata": {},
   "outputs": [],
   "source": [
    "#Syllables helper fcn\n",
    "arpabet = nltk.corpus.cmudict.dict()\n",
    "from g2p_en import G2p\n",
    "g2p = G2p()\n",
    "\n",
    "def get_pronunciation(word):\n",
    "    if word in arpabet:\n",
    "        # pick the first pronunciation\n",
    "        return arpabet[word][0]\n",
    "\n",
    "    else:\n",
    "        return g2p(word)\n",
    "\n",
    "def get_syllable_count(word):\n",
    "    pronunciation=get_pronunciation(word)\n",
    "    sylls=0\n",
    "    for phon in pronunciation:\n",
    "        # vowels in arpabet end in digits (indicating stress)\n",
    "        if re.search(\"\\d$\", phon) is not None:\n",
    "            sylls+=1\n",
    "    return sylls"
   ]
  },
  {
   "cell_type": "code",
   "execution_count": 9,
   "id": "19b47e88",
   "metadata": {},
   "outputs": [],
   "source": [
    "# This function takes in a list of Instagram captions from two influencers, and returns:\n",
    "\n",
    "# X (matrix with total number of words and syllabi (2 features per caption))\n",
    "# Y (list of caption labels, with 1=minimalist_baker and 0=rachel_mansfield)\n",
    "    \n",
    "def featurize_method_2(influencer1, influencer2):\n",
    "    \n",
    "    def featurize(caption, feature_vocab):\n",
    "                \n",
    "        feats=[]\n",
    "        feats.append(get_syllable_count(caption))\n",
    "        feats.append(len(nltk.word_tokenize(caption.lower())))\n",
    "\n",
    "        return feats\n",
    "        \n",
    "    feature_vocab={}\n",
    "    data=[]\n",
    "    Y=[]\n",
    "\n",
    "    for caption in influencer1:\n",
    "        feats=featurize(caption, feature_vocab)\n",
    "        data.append(feats)\n",
    "        Y.append(0)\n",
    "    for caption in influencer2:\n",
    "        feats=featurize(caption, feature_vocab)\n",
    "        data.append(feats)\n",
    "        Y.append(1)\n",
    "    \n",
    "    temp = list(zip(data, Y))\n",
    "    random.shuffle(temp)\n",
    "    data, Y = zip(*temp)\n",
    "\n",
    "    # not a sparse matrix\n",
    "    X=data\n",
    "        \n",
    "    return X, Y, feature_vocab"
   ]
  },
  {
   "cell_type": "code",
   "execution_count": 10,
   "id": "40f46256",
   "metadata": {},
   "outputs": [
    {
     "name": "stdout",
     "output_type": "stream",
     "text": [
      "0.178 NMI\n"
     ]
    }
   ],
   "source": [
    "run_all(rachel_mansfield, minimalist_baker, featurize_method_2)"
   ]
  },
  {
   "cell_type": "code",
   "execution_count": 11,
   "id": "ee45a40d",
   "metadata": {
    "scrolled": false
   },
   "outputs": [
    {
     "name": "stderr",
     "output_type": "stream",
     "text": [
      "Some weights of the model checkpoint at bert-base-uncased were not used when initializing BertModel: ['cls.predictions.transform.LayerNorm.bias', 'cls.predictions.transform.LayerNorm.weight', 'cls.predictions.transform.dense.weight', 'cls.predictions.bias', 'cls.seq_relationship.bias', 'cls.predictions.decoder.weight', 'cls.seq_relationship.weight', 'cls.predictions.transform.dense.bias']\n",
      "- This IS expected if you are initializing BertModel from the checkpoint of a model trained on another task or with another architecture (e.g. initializing a BertForSequenceClassification model from a BertForPreTraining model).\n",
      "- This IS NOT expected if you are initializing BertModel from the checkpoint of a model that you expect to be exactly identical (initializing a BertForSequenceClassification model from a BertForSequenceClassification model).\n"
     ]
    }
   ],
   "source": [
    "#Bert helper fcn\n",
    "\n",
    "tokenizer = BertTokenizer.from_pretrained('bert-base-uncased')\n",
    "model = BertModel.from_pretrained('bert-base-uncased')\n",
    "\n",
    "def get_bert_average_across_text_tokens(string): \n",
    "    \n",
    "    # tokenize\n",
    "    inputs = tokenizer(string, return_tensors=\"pt\")\n",
    "    # convert input ids to words\n",
    "    tokens=tokenizer.convert_ids_to_tokens(inputs[\"input_ids\"][0])\n",
    "\n",
    "    if len(tokens)<=512:\n",
    "        outputs = model(**inputs)\n",
    "        bert_av = np.mean(outputs.last_hidden_state[0].detach().numpy(), axis=0)\n",
    "    else: \n",
    "        bert_av = np.zeros(768).tolist()\n",
    "        \n",
    "    return bert_av"
   ]
  },
  {
   "cell_type": "code",
   "execution_count": 12,
   "id": "8fdc36f3",
   "metadata": {},
   "outputs": [],
   "source": [
    "# This function takes in a list of Instagram captions from two influencers, and returns:\n",
    "\n",
    "# X (matrix with average of BERT embeddings (768 features per caption))\n",
    "# Y (list of caption labels, with 1=minimalist_baker and 0=rachel_mansfield)\n",
    "    \n",
    "def featurize_method_3(influencer1, influencer2):\n",
    "    \n",
    "    def featurize(caption, feature_vocab):\n",
    "                \n",
    "        feats=get_bert_average_across_text_tokens(caption)\n",
    "\n",
    "        return feats\n",
    "        \n",
    "    feature_vocab={}\n",
    "    data=[]\n",
    "    Y=[]\n",
    "\n",
    "    for caption in influencer1:\n",
    "        feats=featurize(caption, feature_vocab)\n",
    "        data.append(feats)\n",
    "        Y.append(0)\n",
    "    for caption in influencer2:\n",
    "        feats=featurize(caption, feature_vocab)\n",
    "        data.append(feats)\n",
    "        Y.append(1)\n",
    "    \n",
    "    temp = list(zip(data, Y))\n",
    "    random.shuffle(temp)\n",
    "    data, Y = zip(*temp)\n",
    "\n",
    "    # not a sparse matrix\n",
    "    X=data\n",
    "        \n",
    "    return X, Y, feature_vocab"
   ]
  },
  {
   "cell_type": "code",
   "execution_count": 13,
   "id": "a06afb26",
   "metadata": {},
   "outputs": [
    {
     "name": "stdout",
     "output_type": "stream",
     "text": [
      "0.910 NMI\n"
     ]
    }
   ],
   "source": [
    "run_all(rachel_mansfield, minimalist_baker, featurize_method_3)"
   ]
  },
  {
   "cell_type": "markdown",
   "id": "bc5808a4",
   "metadata": {},
   "source": [
    "### Conclusion"
   ]
  },
  {
   "cell_type": "markdown",
   "id": "69abc027",
   "metadata": {},
   "source": [
    "I explored three methods for featurization to cluster Instagram captions. The first involved taking a sparse matrix across the entire vocabulary, where captions are rows and words are columns, with a binary word presence/absence. The second method simply took the total number of syllables and the total number of sentences in the captions, resulting in two features per caption (see visualization at the top of the notebook). The third involved taking the BERT embeddings of each token in the caption and averaging them, resulting in 768 features per caption. The BERT method performed best, with a NMI of ~0.9. Ultimately, style detection on Instagram captions is quite feasible, a task that scores significantly better than other types of style recognition (with similar methods for poem style segmentation scoring a NMI ~0.1, for example). "
   ]
  },
  {
   "cell_type": "code",
   "execution_count": null,
   "id": "0a66c93f",
   "metadata": {},
   "outputs": [],
   "source": []
  }
 ],
 "metadata": {
  "kernelspec": {
   "display_name": "Python [conda env:anlp] *",
   "language": "python",
   "name": "conda-env-anlp-py"
  },
  "language_info": {
   "codemirror_mode": {
    "name": "ipython",
    "version": 3
   },
   "file_extension": ".py",
   "mimetype": "text/x-python",
   "name": "python",
   "nbconvert_exporter": "python",
   "pygments_lexer": "ipython3",
   "version": "3.8.11"
  }
 },
 "nbformat": 4,
 "nbformat_minor": 5
}
